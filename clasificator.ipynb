{
 "cells": [
  {
   "cell_type": "code",
   "execution_count": 1,
   "metadata": {},
   "outputs": [
    {
     "name": "stderr",
     "output_type": "stream",
     "text": [
      "/home/victor/anaconda3/envs/computer_vision/lib/python3.6/site-packages/skimage/io/_io.py:49: UserWarning: `as_grey` has been deprecated in favor of `as_gray`\n",
      "  warn('`as_grey` has been deprecated in favor of `as_gray`')\n"
     ]
    }
   ],
   "source": [
    "from skimage.io import imread\n",
    "from skimage.exposure import histogram\n",
    "from skimage.color import rgb2gray\n",
    "import glob as g\n",
    "import numpy as np\n",
    "import matplotlib.pyplot as plt\n",
    "from scipy.stats import skew, kurtosis, entropy\n",
    "%matplotlib inline\n",
    "\n",
    "labels, labels_name = [], ['class1', 'class2']\n",
    "\n",
    "gato = g.glob('image_resize/filter_roberts/class1_roberts/*.png')\n",
    "cachorro = g.glob('image_resize/filter_roberts/class2_roberts/*.png')\n",
    "\n",
    "images = []\n",
    "\n",
    "for path in gato:\n",
    "    im = imread(path, as_grey=True)\n",
    "    images.append(im)\n",
    "    labels.append(0)\n",
    "\n",
    "for path in cachorro:\n",
    "    im = imread(path, as_grey=True)\n",
    "    images.append(im)\n",
    "    labels.append(1)\n",
    "    \n",
    "# plt.figure(figsize=(5, 10))\n",
    "# plt.imshow(images[70], cmap='gray')\n",
    "# plt.title('Image in grayscale')\n",
    "# plt.show()\n",
    "# plt.figure(figsize=(5, 10))\n",
    "# plt.imshow(images[69], cmap='gray')\n",
    "# plt.title('Image in grayscale')\n",
    "# plt.show()"
   ]
  },
  {
   "cell_type": "code",
   "execution_count": 2,
   "metadata": {},
   "outputs": [],
   "source": [
    "dados = []\n",
    "\n",
    "for i in images:\n",
    "    features = []\n",
    "    histo = histogram(i, nbins=256)[0] # Calcula o histograma das imagens\n",
    "    features.append(np.mean(histo))\n",
    "    features.append(np.var(histo))\n",
    "    features.append(skew(histo))\n",
    "    features.append(kurtosis(histo))\n",
    "    features.append(entropy(histo))\n",
    "    features.append(np.power(histo, 2).sum())\n",
    "    \n",
    "    dados.append(features)  #Array de filtros"
   ]
  },
  {
   "cell_type": "code",
   "execution_count": 3,
   "metadata": {},
   "outputs": [],
   "source": [
    "from sklearn.model_selection import train_test_split\n",
    "\n",
    "train_data, test_data, train_label, test_label = train_test_split(dados, labels, test_size=0.2)\n",
    "\n",
    "# print('data train: {}'.format(len(train_data)))\n",
    "# print('data test: {}'.format(len(test_data)))\n",
    "# print('train labels: {}'.format(train_label))\n",
    "# print('test labels: {}'.format(test_label))\n",
    "# print('labels name: {}'.format(labels_name))"
   ]
  },
  {
   "cell_type": "code",
   "execution_count": 4,
   "metadata": {},
   "outputs": [
    {
     "data": {
      "text/plain": [
       "SVC(C=1.0, cache_size=200, class_weight=None, coef0=0.0,\n",
       "  decision_function_shape='ovr', degree=3, gamma='auto', kernel='rbf',\n",
       "  max_iter=-1, probability=False, random_state=None, shrinking=True,\n",
       "  tol=0.001, verbose=False)"
      ]
     },
     "execution_count": 4,
     "metadata": {},
     "output_type": "execute_result"
    }
   ],
   "source": [
    "from sklearn.svm import SVC\n",
    "\n",
    "classifier = SVC()\n",
    "classifier.fit(train_data, train_label)"
   ]
  },
  {
   "cell_type": "code",
   "execution_count": 5,
   "metadata": {},
   "outputs": [
    {
     "data": {
      "image/png": "[encoded data removed]",
      "text/plain": [
       "<Figure size 432x288 with 2 Axes>"
      ]
     },
     "metadata": {},
     "output_type": "display_data"
    }
   ],
   "source": [
    "from sklearn.metrics import accuracy_score, confusion_matrix\n",
    "import itertools\n",
    "\n",
    "def plot_confusion_matrix(cm, classes, normalize=False, title='Confusion matrix', cmap=plt.cm.Blues):\n",
    "\n",
    "    plt.imshow(cm, interpolation='nearest', cmap=cmap)\n",
    "    plt.title(title)\n",
    "    plt.colorbar()\n",
    "    tick_marks = np.arange(len(classes))\n",
    "    plt.xticks(tick_marks, classes, rotation=45)\n",
    "    plt.yticks(tick_marks, classes)\n",
    "\n",
    "    fmt = '.2f' if normalize else 'd'\n",
    "    thresh = cm.max() / 2.\n",
    "    for i, j in itertools.product(range(cm.shape[0]), range(cm.shape[1])):\n",
    "        plt.text(j, i, format(cm[i, j], fmt),\n",
    "                 horizontalalignment=\"center\",\n",
    "                 color=\"white\" if cm[i, j] > thresh else \"black\")\n",
    "\n",
    "    plt.tight_layout()\n",
    "    plt.ylabel('True label')\n",
    "    plt.xlabel('Predicted label')\n",
    "\n",
    "prediction = classifier.predict(test_data)\n",
    "accuracy = accuracy_score(test_label, prediction)\n",
    "matrix = confusion_matrix(test_label, prediction)\n",
    "\n",
    "plt.figure()\n",
    "plot_confusion_matrix(matrix, classes=[labels_name[0], labels_name[1]], \n",
    "                      title='Confusion Matrix - Accuracy: {}'.format(accuracy))\n",
    "\n",
    "plt.show()"
   ]
  },
  {
   "cell_type": "code",
   "execution_count": null,
   "metadata": {},
   "outputs": [],
   "source": []
  }
 ],
 "metadata": {
  "kernelspec": {
   "display_name": "Python 3",
   "language": "python",
   "name": "python3"
  },
  "language_info": {
   "codemirror_mode": {
    "name": "ipython",
    "version": 3
   },
   "file_extension": ".py",
   "mimetype": "text/x-python",
   "name": "python",
   "nbconvert_exporter": "python",
   "pygments_lexer": "ipython3",
   "version": "3.6.6"
  }
 },
 "nbformat": 4,
 "nbformat_minor": 2
}
