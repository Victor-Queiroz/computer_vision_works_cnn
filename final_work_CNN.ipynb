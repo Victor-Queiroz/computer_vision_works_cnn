{
 "cells": [
  {
   "cell_type": "code",
   "execution_count": 1,
   "metadata": {},
   "outputs": [],
   "source": [
    "import glob \n",
    "import random\n",
    "import numpy as np\n",
    "from skimage.io import imread_collection\n",
    "import tensorflow as tf"
   ]
  },
  {
   "cell_type": "code",
   "execution_count": 2,
   "metadata": {},
   "outputs": [],
   "source": [
    "def weight_variable(shape):\n",
    "    initial = tf.truncated_normal(shape, stddev=0.1)\n",
    "    return tf.Variable(initial)"
   ]
  },
  {
   "cell_type": "code",
   "execution_count": 3,
   "metadata": {},
   "outputs": [],
   "source": [
    "def bias_variable(shape):\n",
    "    initial = tf.constant(0.1, shape=shape)\n",
    "    return tf.Variable(initial)"
   ]
  },
  {
   "cell_type": "code",
   "execution_count": 4,
   "metadata": {},
   "outputs": [],
   "source": [
    "def conv2d(x, W):\n",
    "    return tf.nn.conv2d(x, W, strides=[1, 1, 1, 1], padding='SAME')"
   ]
  },
  {
   "cell_type": "code",
   "execution_count": 5,
   "metadata": {},
   "outputs": [],
   "source": [
    "def max_pool_2x2(x):\n",
    "    return tf.nn.max_pool(x, ksize=[1, 2, 2, 1],strides=[1, 2, 2, 1], padding='SAME')"
   ]
  },
  {
   "cell_type": "code",
   "execution_count": 6,
   "metadata": {},
   "outputs": [],
   "source": [
    "x = tf.placeholder(tf.float32, [None,1,10000])\n",
    "y_ = tf.placeholder(tf.float32, [None, 2])\n",
    "x_image = tf.reshape(x, [-1, 100,100, 1])\n",
    "W_conv1 = weight_variable([5, 5, 1, 32])\n",
    "b_conv1 = bias_variable([32])\n",
    "h_conv1 = tf.nn.relu(conv2d(x_image, W_conv1) + b_conv1)\n",
    "h_pool1 = max_pool_2x2(h_conv1)\n",
    "W_conv2 = weight_variable([5, 5, 32, 64])\n",
    "b_conv2 = bias_variable([64])\n",
    "h_conv2 = tf.nn.relu(conv2d(h_pool1, W_conv2) + b_conv2)\n",
    "h_pool2 = max_pool_2x2(h_conv2)\n",
    "W_fc1 = weight_variable([40000, 1024])\n",
    "b_fc1 = bias_variable([1024])\n",
    "h_pool2_flat = tf.reshape(h_pool2, [-1, 40000])\n",
    "h_fc1 = tf.nn.relu(tf.matmul(h_pool2_flat, W_fc1) + b_fc1)\n",
    "keep_prob = tf.placeholder(tf.float32)\n",
    "h_fc1_drop = tf.nn.dropout(h_fc1, keep_prob)\n",
    "W_fc2 = weight_variable([1024, 2])\n",
    "b_fc2 = bias_variable([2])\n",
    "y_conv = tf.matmul(h_fc1_drop, W_fc2) + b_fc2"
   ]
  },
  {
   "cell_type": "code",
   "execution_count": 7,
   "metadata": {
    "scrolled": false
   },
   "outputs": [
    {
     "name": "stdout",
     "output_type": "stream",
     "text": [
      "WARNING:tensorflow:From <ipython-input-7-dad1fce64978>:1: softmax_cross_entropy_with_logits (from tensorflow.python.ops.nn_ops) is deprecated and will be removed in a future version.\n",
      "Instructions for updating:\n",
      "\n",
      "Future major versions of TensorFlow will allow gradients to flow\n",
      "into the labels input on backprop by default.\n",
      "\n",
      "See @{tf.nn.softmax_cross_entropy_with_logits_v2}.\n",
      "\n"
     ]
    }
   ],
   "source": [
    "cross_entropy = tf.reduce_mean(tf.nn.softmax_cross_entropy_with_logits(logits= y_conv, labels = y_))\n",
    "train_step = tf.train.AdamOptimizer(1e-5).minimize(cross_entropy)\n",
    "correct_prediction = tf.equal(tf.argmax(y_conv,1), tf.argmax(y_,1))\n",
    "accuracy = tf.reduce_mean(tf.cast(correct_prediction, tf.float32))"
   ]
  },
  {
   "cell_type": "code",
   "execution_count": 8,
   "metadata": {},
   "outputs": [],
   "source": [
    "def read_images(path):\n",
    "    classes = glob.glob(path+'*')\n",
    "    im_files = []\n",
    "    size_classes = []\n",
    "    for i in classes:\n",
    "        name_images_per_class = glob.glob(i+'/*')\n",
    "        im_files = im_files+name_images_per_class\n",
    "        size_classes.append(len(name_images_per_class))\n",
    "    labels = np.zeros((len(im_files),len(classes)))\n",
    "    ant = 0\n",
    "    for id_i,i in enumerate(size_classes):\n",
    "        labels[ant:ant+i,id_i] = 1\n",
    "        ant = i\n",
    "    collection = imread_collection(im_files)\n",
    "    data = []\n",
    "    for id_i,i in enumerate(collection):\n",
    "        data.append((i.reshape(1,-1)))\n",
    "    return np.asarray(data), np.asarray(labels)"
   ]
  },
  {
   "cell_type": "code",
   "execution_count": 9,
   "metadata": {
    "scrolled": true
   },
   "outputs": [
    {
     "name": "stdout",
     "output_type": "stream",
     "text": [
      "WARNING:tensorflow:From /home/victor/anaconda3/envs/computer_vision/lib/python3.6/site-packages/tensorflow/python/util/tf_should_use.py:118: initialize_all_variables (from tensorflow.python.ops.variables) is deprecated and will be removed after 2017-03-02.\n",
      "Instructions for updating:\n",
      "Use `tf.global_variables_initializer` instead.\n",
      "Epoca 0, acuracia do treinamento = 0\n",
      "Epoca 1, acuracia do treinamento = 0\n",
      "Epoca 2, acuracia do treinamento = 0\n",
      "Epoca 3, acuracia do treinamento = 1\n",
      "Epoca 4, acuracia do treinamento = 1\n",
      "Epoca 5, acuracia do treinamento = 1\n",
      "Epoca 6, acuracia do treinamento = 1\n",
      "Epoca 7, acuracia do treinamento = 1\n",
      "Epoca 8, acuracia do treinamento = 1\n",
      "Epoca 9, acuracia do treinamento = 1\n",
      "Epoca 10, acuracia do treinamento = 1\n",
      "Epoca 11, acuracia do treinamento = 1\n",
      "Epoca 12, acuracia do treinamento = 1\n",
      "Epoca 13, acuracia do treinamento = 1\n",
      "Epoca 14, acuracia do treinamento = 1\n",
      "Epoca 15, acuracia do treinamento = 1\n",
      "Epoca 16, acuracia do treinamento = 1\n",
      "Epoca 17, acuracia do treinamento = 1\n",
      "Epoca 18, acuracia do treinamento = 1\n",
      "Epoca 19, acuracia do treinamento = 1\n",
      "Epoca 20, acuracia do treinamento = 1\n",
      "Epoca 21, acuracia do treinamento = 1\n",
      "Epoca 22, acuracia do treinamento = 1\n",
      "Epoca 23, acuracia do treinamento = 1\n",
      "Epoca 24, acuracia do treinamento = 1\n",
      "Epoca 25, acuracia do treinamento = 1\n",
      "Epoca 26, acuracia do treinamento = 1\n",
      "Epoca 27, acuracia do treinamento = 1\n",
      "Epoca 28, acuracia do treinamento = 1\n",
      "Epoca 29, acuracia do treinamento = 1\n",
      "Epoca 30, acuracia do treinamento = 1\n",
      "Epoca 31, acuracia do treinamento = 1\n",
      "Epoca 32, acuracia do treinamento = 1\n",
      "Epoca 33, acuracia do treinamento = 1\n",
      "Epoca 34, acuracia do treinamento = 1\n",
      "Epoca 35, acuracia do treinamento = 1\n",
      "Epoca 36, acuracia do treinamento = 1\n",
      "Epoca 37, acuracia do treinamento = 1\n",
      "Epoca 38, acuracia do treinamento = 1\n",
      "Epoca 39, acuracia do treinamento = 1\n"
     ]
    }
   ],
   "source": [
    "path = 'image_resize/filter_roberts/'\n",
    "data, labels = read_images(path)\n",
    "batch_size = 40\n",
    "epochs = 40\n",
    "percent = 0.5\n",
    "data_size = len(data)\n",
    "idx = np.arange(data_size)\n",
    "random.shuffle(idx) \n",
    "data = data[idx]\n",
    "labels = labels[idx]\n",
    "train = (data[0:np.int(data_size*percent),:,:],labels[0:np.int(data_size*percent),:])\n",
    "test = (data[np.int(data_size*(1-percent)):,:,:],labels[np.int(data_size*(1-percent)):,:])\n",
    "train_size = len(train[0])\n",
    "sess = tf.InteractiveSession()\n",
    "tf.initialize_all_variables().run()\n",
    "\n",
    "for n in range(epochs):\n",
    "    for i in range(int(np.ceil(train_size/batch_size))):\n",
    "        if (i*batch_size+batch_size <= train_size):\n",
    "            batch = (train[0][i*batch_size:i*batch_size+batch_size],\n",
    "                     train[1][i*batch_size:i*batch_size+batch_size])\n",
    "        else:\n",
    "            batch = (train[0][i*batch_size:],\n",
    "                     train[1][i*batch_size:])\n",
    "            \n",
    "        train_step.run(feed_dict={x: batch[0], y_: batch[1], keep_prob: 0.5})\n",
    "        \n",
    "    if(n%1 == 0):\n",
    "        train_accuracy = accuracy.eval(feed_dict={x:batch[0], y_: batch[1], keep_prob: 1.0})\n",
    "        print(\"Epoca %d, acuracia do treinamento = %g\"%(n, train_accuracy))"
   ]
  },
  {
   "cell_type": "code",
   "execution_count": 10,
   "metadata": {},
   "outputs": [
    {
     "name": "stdout",
     "output_type": "stream",
     "text": [
      "Acuracia =  0.6608479\n"
     ]
    }
   ],
   "source": [
    "acuracia = accuracy.eval(feed_dict={x: test[0][:], y_: test[1][:], keep_prob: 1.0})\n",
    "print(\"Acuracia = \", acuracia)"
   ]
  }
 ],
 "metadata": {
  "kernelspec": {
   "display_name": "Python 3",
   "language": "python",
   "name": "python3"
  },
  "language_info": {
   "codemirror_mode": {
    "name": "ipython",
    "version": 3
   },
   "file_extension": ".py",
   "mimetype": "text/x-python",
   "name": "python",
   "nbconvert_exporter": "python",
   "pygments_lexer": "ipython3",
   "version": "3.6.6"
  }
 },
 "nbformat": 4,
 "nbformat_minor": 2
}
